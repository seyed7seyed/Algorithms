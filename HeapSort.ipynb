{
 "cells": [
  {
   "cell_type": "markdown",
   "id": "12ff4e4f",
   "metadata": {},
   "source": [
    "##### \n",
    "# HeapSort"
   ]
  },
  {
   "cell_type": "code",
   "execution_count": 1,
   "id": "b985c720",
   "metadata": {},
   "outputs": [],
   "source": [
    "from heapq import heappush, heappop\n",
    "\n",
    "def HeapSort( LIST ):\n",
    "    \n",
    "    HEAP = []\n",
    "    for i in LIST:\n",
    "        heappush( HEAP, i )\n",
    "        \n",
    "    SORTED = []\n",
    "    while HEAP:\n",
    "        SORTED.append( heappop(HEAP) )\n",
    "        \n",
    "    return SORTED"
   ]
  },
  {
   "cell_type": "markdown",
   "id": "6320b1a8",
   "metadata": {},
   "source": [
    "#####   \n",
    "## Example"
   ]
  },
  {
   "cell_type": "code",
   "execution_count": 2,
   "id": "0a6626ae",
   "metadata": {},
   "outputs": [
    {
     "name": "stdout",
     "output_type": "stream",
     "text": [
      "[2, 3, 5, 7, 7, 9, 9, 11, 12, 14, 14, 16, 17, 17, 18, 19, 20, 22, 22, 23, 25, 52, 64, 82]\n"
     ]
    }
   ],
   "source": [
    "L1 = [12, 5, 2, 7, 3, 14, 9, 16, 18, 14, 17, 52, 64, 82, 19, 20, 11, 17, 23, 22, 22, 25, 9, 7]\n",
    "L2 = HeapSort(L1)\n",
    "print( L2 )"
   ]
  },
  {
   "cell_type": "markdown",
   "id": "bc1787e2",
   "metadata": {},
   "source": [
    "#####   "
   ]
  },
  {
   "cell_type": "markdown",
   "id": "e155778c",
   "metadata": {},
   "source": [
    "#####   "
   ]
  }
 ],
 "metadata": {
  "kernelspec": {
   "display_name": "Python 3 (ipykernel)",
   "language": "python",
   "name": "python3"
  },
  "language_info": {
   "codemirror_mode": {
    "name": "ipython",
    "version": 3
   },
   "file_extension": ".py",
   "mimetype": "text/x-python",
   "name": "python",
   "nbconvert_exporter": "python",
   "pygments_lexer": "ipython3",
   "version": "3.10.13"
  }
 },
 "nbformat": 4,
 "nbformat_minor": 5
}
