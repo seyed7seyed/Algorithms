{
 "cells": [
  {
   "cell_type": "markdown",
   "id": "0c349a8b",
   "metadata": {},
   "source": [
    "# Apriori\n",
    " - **pip install apriori-python**\n",
    " - **O( 2^n )**\n",
    "   - **n: number of items**"
   ]
  },
  {
   "cell_type": "code",
   "execution_count": 1,
   "id": "4d58f883",
   "metadata": {},
   "outputs": [
    {
     "data": {
      "text/plain": [
       "{1: {frozenset({'eggs'}),\n",
       "  frozenset({'ham'}),\n",
       "  frozenset({'soup'}),\n",
       "  frozenset({'bacon'})},\n",
       " 2: {frozenset({'bacon', 'ham'}),\n",
       "  frozenset({'ham', 'soup'}),\n",
       "  frozenset({'bacon', 'soup'}),\n",
       "  frozenset({'bacon', 'eggs'}),\n",
       "  frozenset({'eggs', 'ham'})},\n",
       " 3: {frozenset({'bacon', 'ham', 'soup'}), frozenset({'bacon', 'eggs', 'ham'})}}"
      ]
     },
     "execution_count": 1,
     "metadata": {},
     "output_type": "execute_result"
    }
   ],
   "source": [
    "from apriori_python import apriori\n",
    "\n",
    "itemSetList = [ ['eggs', 'bacon', 'soup',   'ham'],\n",
    "                ['eggs', 'bacon', 'apple',  'ham'],\n",
    "                ['soup', 'bacon', 'banana', 'ham'] ]\n",
    "\n",
    "freqItemSet, rules = apriori( itemSetList, minSup=0.50, minConf=0.70 )\n",
    "freqItemSet  "
   ]
  },
  {
   "cell_type": "code",
   "execution_count": 2,
   "id": "1878c85c",
   "metadata": {
    "scrolled": false
   },
   "outputs": [
    {
     "data": {
      "text/html": [
       "<div>\n",
       "<style scoped>\n",
       "    .dataframe tbody tr th:only-of-type {\n",
       "        vertical-align: middle;\n",
       "    }\n",
       "\n",
       "    .dataframe tbody tr th {\n",
       "        vertical-align: top;\n",
       "    }\n",
       "\n",
       "    .dataframe thead th {\n",
       "        text-align: right;\n",
       "    }\n",
       "</style>\n",
       "<table border=\"1\" class=\"dataframe\">\n",
       "  <thead>\n",
       "    <tr style=\"text-align: right;\">\n",
       "      <th></th>\n",
       "      <th>items1</th>\n",
       "      <th>items2</th>\n",
       "      <th>connection</th>\n",
       "    </tr>\n",
       "  </thead>\n",
       "  <tbody>\n",
       "    <tr>\n",
       "      <th>0</th>\n",
       "      <td>{bacon}</td>\n",
       "      <td>{ham}</td>\n",
       "      <td>1.0</td>\n",
       "    </tr>\n",
       "    <tr>\n",
       "      <th>1</th>\n",
       "      <td>{ham}</td>\n",
       "      <td>{bacon}</td>\n",
       "      <td>1.0</td>\n",
       "    </tr>\n",
       "    <tr>\n",
       "      <th>2</th>\n",
       "      <td>{soup}</td>\n",
       "      <td>{ham}</td>\n",
       "      <td>1.0</td>\n",
       "    </tr>\n",
       "    <tr>\n",
       "      <th>3</th>\n",
       "      <td>{soup}</td>\n",
       "      <td>{bacon}</td>\n",
       "      <td>1.0</td>\n",
       "    </tr>\n",
       "    <tr>\n",
       "      <th>4</th>\n",
       "      <td>{eggs}</td>\n",
       "      <td>{bacon}</td>\n",
       "      <td>1.0</td>\n",
       "    </tr>\n",
       "    <tr>\n",
       "      <th>5</th>\n",
       "      <td>{eggs}</td>\n",
       "      <td>{ham}</td>\n",
       "      <td>1.0</td>\n",
       "    </tr>\n",
       "    <tr>\n",
       "      <th>6</th>\n",
       "      <td>{soup}</td>\n",
       "      <td>{bacon, ham}</td>\n",
       "      <td>1.0</td>\n",
       "    </tr>\n",
       "    <tr>\n",
       "      <th>7</th>\n",
       "      <td>{bacon, soup}</td>\n",
       "      <td>{ham}</td>\n",
       "      <td>1.0</td>\n",
       "    </tr>\n",
       "    <tr>\n",
       "      <th>8</th>\n",
       "      <td>{soup, ham}</td>\n",
       "      <td>{bacon}</td>\n",
       "      <td>1.0</td>\n",
       "    </tr>\n",
       "    <tr>\n",
       "      <th>9</th>\n",
       "      <td>{eggs}</td>\n",
       "      <td>{bacon, ham}</td>\n",
       "      <td>1.0</td>\n",
       "    </tr>\n",
       "    <tr>\n",
       "      <th>10</th>\n",
       "      <td>{bacon, eggs}</td>\n",
       "      <td>{ham}</td>\n",
       "      <td>1.0</td>\n",
       "    </tr>\n",
       "    <tr>\n",
       "      <th>11</th>\n",
       "      <td>{ham, eggs}</td>\n",
       "      <td>{bacon}</td>\n",
       "      <td>1.0</td>\n",
       "    </tr>\n",
       "  </tbody>\n",
       "</table>\n",
       "</div>"
      ],
      "text/plain": [
       "           items1        items2  connection\n",
       "0         {bacon}         {ham}         1.0\n",
       "1           {ham}       {bacon}         1.0\n",
       "2          {soup}         {ham}         1.0\n",
       "3          {soup}       {bacon}         1.0\n",
       "4          {eggs}       {bacon}         1.0\n",
       "5          {eggs}         {ham}         1.0\n",
       "6          {soup}  {bacon, ham}         1.0\n",
       "7   {bacon, soup}         {ham}         1.0\n",
       "8     {soup, ham}       {bacon}         1.0\n",
       "9          {eggs}  {bacon, ham}         1.0\n",
       "10  {bacon, eggs}         {ham}         1.0\n",
       "11    {ham, eggs}       {bacon}         1.0"
      ]
     },
     "execution_count": 2,
     "metadata": {},
     "output_type": "execute_result"
    }
   ],
   "source": [
    "import pandas as pd\n",
    "rules_df = pd.DataFrame( rules, columns=['items1','items2','connection'] )  \n",
    "rules_df"
   ]
  },
  {
   "cell_type": "markdown",
   "id": "2ed65536",
   "metadata": {},
   "source": [
    "#####   \n",
    "## Recommending"
   ]
  },
  {
   "cell_type": "markdown",
   "id": "0d5160d0",
   "metadata": {},
   "source": [
    "### Read Basket"
   ]
  },
  {
   "cell_type": "code",
   "execution_count": 3,
   "id": "b24f760d",
   "metadata": {},
   "outputs": [],
   "source": [
    "# input\n",
    "basket = ['ham', 'eggs']"
   ]
  },
  {
   "cell_type": "markdown",
   "id": "1f8e4bf1",
   "metadata": {},
   "source": [
    "### Find Basket Subsets"
   ]
  },
  {
   "cell_type": "code",
   "execution_count": 4,
   "id": "c231ffc8",
   "metadata": {},
   "outputs": [
    {
     "data": {
      "text/plain": [
       "[set(), {'ham'}, {'eggs'}, {'eggs', 'ham'}]"
      ]
     },
     "execution_count": 4,
     "metadata": {},
     "output_type": "execute_result"
    }
   ],
   "source": [
    "import itertools\n",
    "\n",
    "SUBS   = []\n",
    "for L in range(len(basket) + 1):\n",
    "    for subset in itertools.combinations(basket, L):\n",
    "        SUBS.append(set(subset))\n",
    "SUBS"
   ]
  },
  {
   "cell_type": "markdown",
   "id": "1fe78528",
   "metadata": {},
   "source": [
    "### Find Associated Items"
   ]
  },
  {
   "cell_type": "code",
   "execution_count": 5,
   "id": "45042e0a",
   "metadata": {},
   "outputs": [
    {
     "data": {
      "text/plain": [
       "['bacon', 'ham']"
      ]
     },
     "execution_count": 5,
     "metadata": {},
     "output_type": "execute_result"
    }
   ],
   "source": [
    "C = []\n",
    "for sub in SUBS:\n",
    "    A = rules_df.loc[ rules_df['items1']==sub , 'items2' ].values.tolist()\n",
    "    for item_a in A:\n",
    "        B = list( item_a )\n",
    "        for item_b in B:\n",
    "            C.append( item_b )\n",
    "        \n",
    "C = list( set(C) )\n",
    "C"
   ]
  },
  {
   "cell_type": "markdown",
   "id": "fd3893c8",
   "metadata": {},
   "source": [
    "### Recommend Unpurchased Items"
   ]
  },
  {
   "cell_type": "code",
   "execution_count": 6,
   "id": "9664305e",
   "metadata": {},
   "outputs": [
    {
     "data": {
      "text/plain": [
       "['bacon']"
      ]
     },
     "execution_count": 6,
     "metadata": {},
     "output_type": "execute_result"
    }
   ],
   "source": [
    "R = list( set(C).difference( set(basket) ) )\n",
    "R"
   ]
  },
  {
   "cell_type": "markdown",
   "id": "c3ce98a1",
   "metadata": {},
   "source": [
    "#####   "
   ]
  },
  {
   "cell_type": "markdown",
   "id": "885d6ae1",
   "metadata": {},
   "source": [
    "#####   "
   ]
  }
 ],
 "metadata": {
  "kernelspec": {
   "display_name": "Python 3 (ipykernel)",
   "language": "python",
   "name": "python3"
  },
  "language_info": {
   "codemirror_mode": {
    "name": "ipython",
    "version": 3
   },
   "file_extension": ".py",
   "mimetype": "text/x-python",
   "name": "python",
   "nbconvert_exporter": "python",
   "pygments_lexer": "ipython3",
   "version": "3.10.13"
  }
 },
 "nbformat": 4,
 "nbformat_minor": 5
}
